{
 "cells": [
  {
   "cell_type": "markdown",
   "metadata": {},
   "source": [
    "# Make supplementary data files\n",
    "This Python Jupyter notebook makes supplementary files for antibody sets for which doing this is specified in `escape_profiles_config`:\n",
    " - raw data files\n",
    " - [dms-view](https://dms-view.github.io/) input files\n",
    " - correlations between libraries"
   ]
  },
  {
   "cell_type": "markdown",
   "metadata": {},
   "source": [
    "## Set up\n",
    "Import Python modules:"
   ]
  },
  {
   "cell_type": "code",
   "execution_count": 1,
   "metadata": {
    "execution": {
     "iopub.execute_input": "2022-08-26T03:03:29.336632Z",
     "iopub.status.busy": "2022-08-26T03:03:29.335882Z",
     "iopub.status.idle": "2022-08-26T03:03:32.090729Z",
     "shell.execute_reply": "2022-08-26T03:03:32.090036Z"
    }
   },
   "outputs": [],
   "source": [
    "import itertools\n",
    "import math\n",
    "import os\n",
    "\n",
    "from IPython.display import display, HTML\n",
    "\n",
    "import matplotlib.pyplot as plt\n",
    "\n",
    "import pandas as pd\n",
    "\n",
    "from plotnine import *\n",
    "\n",
    "import yaml"
   ]
  },
  {
   "cell_type": "markdown",
   "metadata": {},
   "source": [
    "Read the configuration file:"
   ]
  },
  {
   "cell_type": "code",
   "execution_count": 2,
   "metadata": {
    "execution": {
     "iopub.execute_input": "2022-08-26T03:03:32.097432Z",
     "iopub.status.busy": "2022-08-26T03:03:32.095774Z",
     "iopub.status.idle": "2022-08-26T03:03:32.116671Z",
     "shell.execute_reply": "2022-08-26T03:03:32.116104Z"
    }
   },
   "outputs": [],
   "source": [
    "with open('config.yaml') as f:\n",
    "    config = yaml.safe_load(f)"
   ]
  },
  {
   "cell_type": "markdown",
   "metadata": {},
   "source": [
    "Create output directory:"
   ]
  },
  {
   "cell_type": "code",
   "execution_count": 3,
   "metadata": {
    "execution": {
     "iopub.execute_input": "2022-08-26T03:03:32.121300Z",
     "iopub.status.busy": "2022-08-26T03:03:32.120173Z",
     "iopub.status.idle": "2022-08-26T03:03:32.127498Z",
     "shell.execute_reply": "2022-08-26T03:03:32.126871Z"
    }
   },
   "outputs": [],
   "source": [
    "os.makedirs(config['supp_data_dir_Wuhan_Hu_1'], exist_ok=True)"
   ]
  },
  {
   "cell_type": "markdown",
   "metadata": {},
   "source": [
    "Extract from configuration what we will use as the site- and mutation-level metrics:"
   ]
  },
  {
   "cell_type": "code",
   "execution_count": 4,
   "metadata": {
    "execution": {
     "iopub.execute_input": "2022-08-26T03:03:32.132712Z",
     "iopub.status.busy": "2022-08-26T03:03:32.131413Z",
     "iopub.status.idle": "2022-08-26T03:03:32.159557Z",
     "shell.execute_reply": "2022-08-26T03:03:32.158786Z"
    }
   },
   "outputs": [
    {
     "name": "stdout",
     "output_type": "stream",
     "text": [
      "At site level, quantifying selection by site_total_escape_frac_single_mut\n",
      "At mutation level, quantify selection by mut_escape_frac_single_mut\n"
     ]
    }
   ],
   "source": [
    "site_metric = config['site_metric']\n",
    "mut_metric = config['mut_metric']\n",
    "\n",
    "print(f\"At site level, quantifying selection by {site_metric}\")\n",
    "print(f\"At mutation level, quantify selection by {mut_metric}\")"
   ]
  },
  {
   "cell_type": "markdown",
   "metadata": {},
   "source": [
    "Read escape profiles configuration and get sets for which we will be making supp data:"
   ]
  },
  {
   "cell_type": "code",
   "execution_count": 5,
   "metadata": {
    "execution": {
     "iopub.execute_input": "2022-08-26T03:03:32.166114Z",
     "iopub.status.busy": "2022-08-26T03:03:32.165831Z",
     "iopub.status.idle": "2022-08-26T03:03:32.176679Z",
     "shell.execute_reply": "2022-08-26T03:03:32.176059Z"
    }
   },
   "outputs": [
    {
     "name": "stdout",
     "output_type": "stream",
     "text": [
      "Making supplementary data for the following condition sets:\n",
      "  LY-CoV1404_WH1\n"
     ]
    }
   ],
   "source": [
    "with open (config['escape_profiles_config_Wuhan_Hu_1']) as f:\n",
    "    escape_profiles_config = yaml.safe_load(f)\n",
    "    \n",
    "condition_sets = {name: specs['conditions'] for name, specs in escape_profiles_config.items()\n",
    "                  if 'make_supp_data' in specs and specs['make_supp_data']}\n",
    "\n",
    "print('Making supplementary data for the following condition sets:\\n  ' + '\\n  '.join(condition_sets))"
   ]
  },
  {
   "cell_type": "markdown",
   "metadata": {},
   "source": [
    "Read the escape fractions"
   ]
  },
  {
   "cell_type": "code",
   "execution_count": 6,
   "metadata": {
    "execution": {
     "iopub.execute_input": "2022-08-26T03:03:32.180465Z",
     "iopub.status.busy": "2022-08-26T03:03:32.180005Z",
     "iopub.status.idle": "2022-08-26T03:03:32.201740Z",
     "shell.execute_reply": "2022-08-26T03:03:32.201112Z"
    }
   },
   "outputs": [
    {
     "name": "stdout",
     "output_type": "stream",
     "text": [
      "Reading escape fractions from results/escape_scores/escape_fracs_Wuhan_Hu_1.csv\n"
     ]
    }
   ],
   "source": [
    "print(f\"Reading escape fractions from {config['escape_fracs_Wuhan_Hu_1']}\")\n",
    "escape_fracs_all = pd.read_csv(config['escape_fracs_Wuhan_Hu_1'])"
   ]
  },
  {
   "cell_type": "markdown",
   "metadata": {},
   "source": [
    "Read the configuration about what data gets output on what PDBs:"
   ]
  },
  {
   "cell_type": "code",
   "execution_count": 7,
   "metadata": {
    "execution": {
     "iopub.execute_input": "2022-08-26T03:03:32.248006Z",
     "iopub.status.busy": "2022-08-26T03:03:32.245924Z",
     "iopub.status.idle": "2022-08-26T03:03:32.256082Z",
     "shell.execute_reply": "2022-08-26T03:03:32.255130Z"
    }
   },
   "outputs": [],
   "source": [
    "with open (config['output_pdbs_config']) as f:\n",
    "    output_pdbs_config = yaml.safe_load(f)"
   ]
  },
  {
   "cell_type": "markdown",
   "metadata": {},
   "source": [
    "## Correlations between libraries\n",
    "Plot correlations between libraries for mutation- and site-level escape:"
   ]
  },
  {
   "cell_type": "code",
   "execution_count": 8,
   "metadata": {
    "execution": {
     "iopub.execute_input": "2022-08-26T03:03:32.261121Z",
     "iopub.status.busy": "2022-08-26T03:03:32.259874Z",
     "iopub.status.idle": "2022-08-26T03:03:34.079466Z",
     "shell.execute_reply": "2022-08-26T03:03:34.078956Z"
    }
   },
   "outputs": [
    {
     "name": "stdout",
     "output_type": "stream",
     "text": [
      "\n",
      "Plotting correlations of mutation escape for LY-CoV1404_WH1\n"
     ]
    },
    {
     "name": "stderr",
     "output_type": "stream",
     "text": [
      "/fh/fast/bloom_j/computational_notebooks/tstarr/2022/SARS-CoV-2-RBD_Omicron_MAP_LY-CoV1404/env/lib/python3.8/site-packages/plotnine/utils.py:371: FutureWarning: The frame.append method is deprecated and will be removed from pandas in a future version. Use pandas.concat instead.\n",
      "/fh/fast/bloom_j/computational_notebooks/tstarr/2022/SARS-CoV-2-RBD_Omicron_MAP_LY-CoV1404/env/lib/python3.8/site-packages/plotnine/utils.py:371: FutureWarning: The frame.append method is deprecated and will be removed from pandas in a future version. Use pandas.concat instead.\n"
     ]
    },
    {
     "data": {
      "image/png": "[encoded data removed]",
      "text/plain": [
       "<Figure size 432x288 with 1 Axes>"
      ]
     },
     "metadata": {},
     "output_type": "display_data"
    },
    {
     "name": "stdout",
     "output_type": "stream",
     "text": [
      "Saving plot to results/supp_data/Wuhan_Hu_1/LY-CoV1404_WH1-mutation-corr.pdf\n"
     ]
    },
    {
     "name": "stderr",
     "output_type": "stream",
     "text": [
      "/fh/fast/bloom_j/computational_notebooks/tstarr/2022/SARS-CoV-2-RBD_Omicron_MAP_LY-CoV1404/env/lib/python3.8/site-packages/plotnine/utils.py:371: FutureWarning: The frame.append method is deprecated and will be removed from pandas in a future version. Use pandas.concat instead.\n",
      "/fh/fast/bloom_j/computational_notebooks/tstarr/2022/SARS-CoV-2-RBD_Omicron_MAP_LY-CoV1404/env/lib/python3.8/site-packages/plotnine/utils.py:371: FutureWarning: The frame.append method is deprecated and will be removed from pandas in a future version. Use pandas.concat instead.\n"
     ]
    },
    {
     "name": "stdout",
     "output_type": "stream",
     "text": [
      "\n",
      "Plotting correlations of site escape for LY-CoV1404_WH1\n"
     ]
    },
    {
     "name": "stderr",
     "output_type": "stream",
     "text": [
      "/fh/fast/bloom_j/computational_notebooks/tstarr/2022/SARS-CoV-2-RBD_Omicron_MAP_LY-CoV1404/env/lib/python3.8/site-packages/plotnine/utils.py:371: FutureWarning: The frame.append method is deprecated and will be removed from pandas in a future version. Use pandas.concat instead.\n",
      "/fh/fast/bloom_j/computational_notebooks/tstarr/2022/SARS-CoV-2-RBD_Omicron_MAP_LY-CoV1404/env/lib/python3.8/site-packages/plotnine/utils.py:371: FutureWarning: The frame.append method is deprecated and will be removed from pandas in a future version. Use pandas.concat instead.\n"
     ]
    },
    {
     "data": {
      "image/png": "[encoded data removed]",
      "text/plain": [
       "<Figure size 250x250 with 1 Axes>"
      ]
     },
     "metadata": {},
     "output_type": "display_data"
    },
    {
     "name": "stdout",
     "output_type": "stream",
     "text": [
      "Saving plot to results/supp_data/Wuhan_Hu_1/LY-CoV1404_WH1-site-corr.pdf\n"
     ]
    },
    {
     "name": "stderr",
     "output_type": "stream",
     "text": [
      "/fh/fast/bloom_j/computational_notebooks/tstarr/2022/SARS-CoV-2-RBD_Omicron_MAP_LY-CoV1404/env/lib/python3.8/site-packages/plotnine/utils.py:371: FutureWarning: The frame.append method is deprecated and will be removed from pandas in a future version. Use pandas.concat instead.\n",
      "/fh/fast/bloom_j/computational_notebooks/tstarr/2022/SARS-CoV-2-RBD_Omicron_MAP_LY-CoV1404/env/lib/python3.8/site-packages/plotnine/utils.py:371: FutureWarning: The frame.append method is deprecated and will be removed from pandas in a future version. Use pandas.concat instead.\n"
     ]
    }
   ],
   "source": [
    "libraries = [lib for lib in escape_fracs_all['library'].unique() if lib != \"average\"]\n",
    "assert len(libraries) == 2, 'plot only makes sense if 2 libraries'\n",
    "\n",
    "for metric_type, (set_name, condition_set) in itertools.product(['mutation', 'site'],\n",
    "                                                                condition_sets.items()):\n",
    "    \n",
    "    print(f\"\\nPlotting correlations of {metric_type} escape for {set_name}\")\n",
    "    \n",
    "    if metric_type == 'mutation':\n",
    "        metric = mut_metric\n",
    "        pivot_index = ['selection', 'site', 'mutation']\n",
    "    elif metric_type == 'site':\n",
    "        metric = site_metric\n",
    "        pivot_index = ['selection', 'site']\n",
    "    else:\n",
    "        raise ValueError(f\"invalid `metric_type` {metric_type}\")\n",
    "\n",
    "    # wide data frame with each library's score in a different column\n",
    "    df_wide = (\n",
    "        escape_fracs_all\n",
    "        .query('library != \"average\"')\n",
    "        .query('selection in @condition_set')\n",
    "        .assign(selection=lambda x: x['selection'].map(condition_set))\n",
    "        # need to drop duplicate columns if using site metric\n",
    "        [['library', metric] + pivot_index]\n",
    "        .drop_duplicates()\n",
    "        # now make columns for each library, only keep mutants with scores for both libs\n",
    "        .pivot_table(index=pivot_index,\n",
    "                     columns='library',\n",
    "                     values=metric)\n",
    "        .reset_index()\n",
    "        .dropna(axis=0)\n",
    "        )\n",
    "\n",
    "    # correlations between libraries\n",
    "    corrs = (\n",
    "        df_wide\n",
    "        .groupby('selection')\n",
    "        [libraries]\n",
    "        .corr(method='pearson')\n",
    "        .reset_index()\n",
    "        .query('library == @libraries[0]')\n",
    "        .assign(correlation=lambda x: 'R=' + x[libraries[1]].round(2).astype(str))\n",
    "        [['selection', 'correlation']]\n",
    "        # add number of mutations measured\n",
    "        .merge(df_wide\n",
    "               .groupby('selection')\n",
    "               .size()\n",
    "               .rename('n')\n",
    "               .reset_index()\n",
    "               )\n",
    "        .assign(correlation=lambda x: x['correlation'] + ', N=' + x['n'].astype(str))\n",
    "        )\n",
    "\n",
    "    # plot correlations\n",
    "    nfacets = df_wide['selection'].nunique()\n",
    "    ncol = min(nfacets, 5)\n",
    "    nrow = math.ceil(nfacets / ncol)\n",
    "    xmin = df_wide[libraries[0]].min()\n",
    "    xspan = df_wide[libraries[0]].max() - xmin\n",
    "    ymin = df_wide[libraries[1]].min()\n",
    "    yspan = df_wide[libraries[1]].max() - ymin\n",
    "    p = (ggplot(df_wide) +\n",
    "         aes(libraries[0], libraries[1]) +\n",
    "         geom_point(alpha=0.2, color='black') +\n",
    "         geom_text(mapping=aes(label='correlation'),\n",
    "                   data=corrs,\n",
    "                   x=0.01 * xspan + xmin,\n",
    "                   y=0.99 * yspan + ymin,\n",
    "                   size=10,\n",
    "                   ha='left',\n",
    "                   va='top',\n",
    "                   ) +\n",
    "         facet_wrap('~ selection', ncol=ncol) +\n",
    "         theme_classic() +\n",
    "         theme(figure_size=(2.5 * ncol, 2.5 * nrow),\n",
    "               plot_title=element_text(size=14)) +\n",
    "         ggtitle(f\"{metric_type}-level escape\")\n",
    "         )\n",
    "\n",
    "    fig = p.draw()\n",
    "    display(fig)\n",
    "    plotfile = os.path.join(config['supp_data_dir_Wuhan_Hu_1'],\n",
    "                            f\"{set_name}-{metric_type}-corr.pdf\")\n",
    "    print(f\"Saving plot to {plotfile}\")\n",
    "    p.save(plotfile, verbose=False)\n",
    "    plt.close(fig)"
   ]
  },
  {
   "cell_type": "markdown",
   "metadata": {},
   "source": [
    "## Raw data files\n",
    "Get the \"raw data\" for the effects of each mutation on antibody escape.\n",
    "This has just the columns of most interest for the average of the two libraries, renamed in a sensible way:"
   ]
  },
  {
   "cell_type": "code",
   "execution_count": 9,
   "metadata": {
    "execution": {
     "iopub.execute_input": "2022-08-26T03:03:34.084295Z",
     "iopub.status.busy": "2022-08-26T03:03:34.082927Z",
     "iopub.status.idle": "2022-08-26T03:03:34.095531Z",
     "shell.execute_reply": "2022-08-26T03:03:34.094985Z"
    }
   },
   "outputs": [],
   "source": [
    "raw_data = (\n",
    "    escape_fracs_all\n",
    "    .query('library == \"average\"')\n",
    "    .drop(columns=['library'])\n",
    "    .rename(columns={mut_metric: 'mut_escape',\n",
    "                     site_metric: 'site_total_escape'})\n",
    "    [['condition', 'site', 'label_site', 'wildtype', 'mutation', 'protein_chain',\n",
    "      'protein_site', 'mut_escape', 'site_total_escape']]\n",
    "    .assign(site_max_escape=lambda x: x.groupby(['condition', 'site'])['mut_escape'].transform('max'))\n",
    "    )"
   ]
  },
  {
   "cell_type": "markdown",
   "metadata": {},
   "source": [
    "Now write the raw data for each condition set:"
   ]
  },
  {
   "cell_type": "code",
   "execution_count": 10,
   "metadata": {
    "execution": {
     "iopub.execute_input": "2022-08-26T03:03:34.102185Z",
     "iopub.status.busy": "2022-08-26T03:03:34.101058Z",
     "iopub.status.idle": "2022-08-26T03:03:34.135341Z",
     "shell.execute_reply": "2022-08-26T03:03:34.134831Z"
    }
   },
   "outputs": [
    {
     "name": "stdout",
     "output_type": "stream",
     "text": [
      "\n",
      "Raw data for LY-CoV1404_WH1:\n",
      "Writing to results/supp_data/Wuhan_Hu_1/LY-CoV1404_WH1_raw_data.csv\n"
     ]
    }
   ],
   "source": [
    "for set_name, condition_set in condition_sets.items():\n",
    "    print(f\"\\nRaw data for {set_name}:\")\n",
    "    df = (raw_data\n",
    "          .query('condition in @condition_set')\n",
    "          .assign(condition=lambda x: x['condition'].map(condition_set))\n",
    "          [['condition', 'label_site', 'wildtype', 'mutation', 'mut_escape',\n",
    "            'site_total_escape', 'site_max_escape']]\n",
    "          .rename(columns={'label_site': 'site'})\n",
    "          )\n",
    "    #display(HTML(df.head().to_html(index=False)))\n",
    "    csv_file = os.path.join(config['supp_data_dir_Wuhan_Hu_1'], f\"{set_name}_raw_data.csv\")\n",
    "    print(f\"Writing to {csv_file}\")\n",
    "    df.to_csv(csv_file, index=False, float_format='%.4g')"
   ]
  },
  {
   "cell_type": "markdown",
   "metadata": {},
   "source": [
    "## Data for `dms-view`:\n",
    "Now we write the data in a format for display by [dms-view](https://dms-view.github.io/docs/dataupload) with several different possible mutation-level escape color schemes and also allowing options to visualize directly the deep mutational scanning data.\n",
    "We write such a file for each condition set for the PDBs specified in `output_pdbs_config`.\n",
    "\n",
    "First, create the different color schemes for the mutation-level escape.\n",
    "The first step is to read these color schemes:"
   ]
  },
  {
   "cell_type": "code",
   "execution_count": 11,
   "metadata": {
    "execution": {
     "iopub.execute_input": "2022-08-26T03:03:34.139421Z",
     "iopub.status.busy": "2022-08-26T03:03:34.138423Z",
     "iopub.status.idle": "2022-08-26T03:03:34.157827Z",
     "shell.execute_reply": "2022-08-26T03:03:34.157061Z"
    }
   },
   "outputs": [
    {
     "name": "stdout",
     "output_type": "stream",
     "text": [
      "Reading DMS color schemes from results/escape_profiles/Wuhan_Hu_1/escape_profiles_dms_colors.csv\n"
     ]
    }
   ],
   "source": [
    "print(f\"Reading DMS color schemes from {config['escape_profiles_dms_colors_Wuhan_Hu_1']}\")\n",
    "\n",
    "dms_colors = (\n",
    "    pd.read_csv(config['escape_profiles_dms_colors_Wuhan_Hu_1'])\n",
    "    .drop(columns=['bind', 'expr'])\n",
    "    .rename(columns={'site': 'label_site'})\n",
    "    .rename(columns={'bind_color': 'color ACE2 bind',\n",
    "                     'expr_color': 'color RBD expr'})\n",
    "    # add color schemes by functional group and all gray\n",
    "    .assign(**{'color gray': '#696969',\n",
    "               'color func group': 'functional'})\n",
    "    )"
   ]
  },
  {
   "cell_type": "markdown",
   "metadata": {},
   "source": [
    "Now write a [dms-view](https://dms-view.github.io/docs/dataupload) input file that allows different mutation-level coloring schemes:"
   ]
  },
  {
   "cell_type": "code",
   "execution_count": 12,
   "metadata": {
    "execution": {
     "iopub.execute_input": "2022-08-26T03:03:34.164009Z",
     "iopub.status.busy": "2022-08-26T03:03:34.162399Z",
     "iopub.status.idle": "2022-08-26T03:03:34.202662Z",
     "shell.execute_reply": "2022-08-26T03:03:34.202084Z"
    }
   },
   "outputs": [
    {
     "data": {
      "text/html": [
       "<table border=\"1\" class=\"dataframe\">\n",
       "  <thead>\n",
       "    <tr style=\"text-align: right;\">\n",
       "      <th>condition</th>\n",
       "      <th>site</th>\n",
       "      <th>label_site</th>\n",
       "      <th>wildtype</th>\n",
       "      <th>mutation</th>\n",
       "      <th>protein_site</th>\n",
       "      <th>mut_escape color ACE2 bind</th>\n",
       "      <th>site_total escape</th>\n",
       "      <th>site_max escape</th>\n",
       "      <th>color_for_mutation</th>\n",
       "      <th>mut_escape color RBD expr</th>\n",
       "      <th>mut_escape color gray</th>\n",
       "      <th>mut_escape color func group</th>\n",
       "    </tr>\n",
       "  </thead>\n",
       "  <tbody>\n",
       "    <tr>\n",
       "      <td>LY-CoV1404_154</td>\n",
       "      <td>1</td>\n",
       "      <td>331</td>\n",
       "      <td>N</td>\n",
       "      <td>A</td>\n",
       "      <td>331</td>\n",
       "      <td>0.001025</td>\n",
       "      <td>0.08041</td>\n",
       "      <td>0.02707</td>\n",
       "      <td>#662505</td>\n",
       "      <td>NaN</td>\n",
       "      <td>NaN</td>\n",
       "      <td>NaN</td>\n",
       "    </tr>\n",
       "    <tr>\n",
       "      <td>LY-CoV1404_154</td>\n",
       "      <td>1</td>\n",
       "      <td>331</td>\n",
       "      <td>N</td>\n",
       "      <td>C</td>\n",
       "      <td>331</td>\n",
       "      <td>0.003829</td>\n",
       "      <td>0.08041</td>\n",
       "      <td>0.02707</td>\n",
       "      <td>#a13703</td>\n",
       "      <td>NaN</td>\n",
       "      <td>NaN</td>\n",
       "      <td>NaN</td>\n",
       "    </tr>\n",
       "    <tr>\n",
       "      <td>LY-CoV1404_154</td>\n",
       "      <td>1</td>\n",
       "      <td>331</td>\n",
       "      <td>N</td>\n",
       "      <td>D</td>\n",
       "      <td>331</td>\n",
       "      <td>0.009381</td>\n",
       "      <td>0.08041</td>\n",
       "      <td>0.02707</td>\n",
       "      <td>#662505</td>\n",
       "      <td>NaN</td>\n",
       "      <td>NaN</td>\n",
       "      <td>NaN</td>\n",
       "    </tr>\n",
       "    <tr>\n",
       "      <td>LY-CoV1404_154</td>\n",
       "      <td>1</td>\n",
       "      <td>331</td>\n",
       "      <td>N</td>\n",
       "      <td>E</td>\n",
       "      <td>331</td>\n",
       "      <td>0.001833</td>\n",
       "      <td>0.08041</td>\n",
       "      <td>0.02707</td>\n",
       "      <td>#662505</td>\n",
       "      <td>NaN</td>\n",
       "      <td>NaN</td>\n",
       "      <td>NaN</td>\n",
       "    </tr>\n",
       "    <tr>\n",
       "      <td>LY-CoV1404_154</td>\n",
       "      <td>1</td>\n",
       "      <td>331</td>\n",
       "      <td>N</td>\n",
       "      <td>F</td>\n",
       "      <td>331</td>\n",
       "      <td>0.004127</td>\n",
       "      <td>0.08041</td>\n",
       "      <td>0.02707</td>\n",
       "      <td>#812d04</td>\n",
       "      <td>NaN</td>\n",
       "      <td>NaN</td>\n",
       "      <td>NaN</td>\n",
       "    </tr>\n",
       "  </tbody>\n",
       "</table>"
      ],
      "text/plain": [
       "<IPython.core.display.HTML object>"
      ]
     },
     "metadata": {},
     "output_type": "display_data"
    }
   ],
   "source": [
    "dms_view_df = (\n",
    "    pd.concat([raw_data.merge(dms_colors[['label_site', 'mutation', color]],\n",
    "                              how='left',\n",
    "                              validate='many_to_one')\n",
    "                       .rename(columns={color: 'color_for_mutation',\n",
    "                                        'mut_escape': 'mut_escape ' + color})\n",
    "               for color in dms_colors.drop(columns=['label_site', 'mutation']).columns.tolist()\n",
    "               ])\n",
    "    .rename(columns={'site_max_escape': 'site_max escape',\n",
    "                     'site_total_escape': 'site_total escape'})\n",
    "    .drop(columns='protein_chain')\n",
    "    )\n",
    "\n",
    "display(HTML(dms_view_df.head().to_html(index=False)))"
   ]
  },
  {
   "cell_type": "markdown",
   "metadata": {},
   "source": [
    "Finally, write `dms-view` input files for each condition set:"
   ]
  },
  {
   "cell_type": "code",
   "execution_count": 13,
   "metadata": {
    "execution": {
     "iopub.execute_input": "2022-08-26T03:03:34.207372Z",
     "iopub.status.busy": "2022-08-26T03:03:34.206213Z",
     "iopub.status.idle": "2022-08-26T03:03:34.297154Z",
     "shell.execute_reply": "2022-08-26T03:03:34.296338Z"
    }
   },
   "outputs": [
    {
     "name": "stdout",
     "output_type": "stream",
     "text": [
      "Writing `dms-view` input file for LY-CoV1404_WH1 mapped to PDB 6m0j to results/supp_data/Wuhan_Hu_1/LY-CoV1404_WH1_6m0j_dms-view_data.csv\n"
     ]
    }
   ],
   "source": [
    "for set_name, condition_set in condition_sets.items():\n",
    "    \n",
    "    for pdb_name, pdb_specs in output_pdbs_config.items():\n",
    "        \n",
    "        # get all conditions for this set to be written to this PDB\n",
    "        if isinstance(pdb_specs['conditions'], str) and pdb_specs['conditions'].upper() == 'ALL':\n",
    "            pdb_conditions = condition_set\n",
    "        else:\n",
    "            assert isinstance(pdb_specs['conditions'], list)\n",
    "            pdb_conditions = [condition for condition in condition_set\n",
    "                              if condition in pdb_specs['conditions']]\n",
    "        if not pdb_conditions:\n",
    "            continue\n",
    "            \n",
    "        df = (dms_view_df\n",
    "              .query('condition in @pdb_conditions')\n",
    "              .assign(condition=lambda x: x['condition'].map(condition_set))  # re-name to shorter names\n",
    "              )\n",
    "        \n",
    "        # assign all relevant protein chains\n",
    "        cols = df.columns.tolist()\n",
    "        i = cols.index('protein_site')  # add protein chain column here\n",
    "        newcols = cols[: i] + ['protein_chain'] + cols[i: ]\n",
    "        chains = ' '.join(pdb_specs['chains'])\n",
    "        df = df.assign(protein_chain=chains)[newcols]\n",
    "   \n",
    "        csv_file = os.path.join(config['supp_data_dir_Wuhan_Hu_1'], f\"{set_name}_{pdb_name}_dms-view_data.csv\")\n",
    "        print(f\"Writing `dms-view` input file for {set_name} mapped to PDB {pdb_name} to {csv_file}\")\n",
    "        df.to_csv(csv_file, index=False, float_format='%.4g')"
   ]
  },
  {
   "cell_type": "code",
   "execution_count": null,
   "metadata": {},
   "outputs": [],
   "source": []
  }
 ],
 "metadata": {
  "kernelspec": {
   "display_name": "Python 3 (ipykernel)",
   "language": "python",
   "name": "python3"
  },
  "language_info": {
   "codemirror_mode": {
    "name": "ipython",
    "version": 3
   },
   "file_extension": ".py",
   "mimetype": "text/x-python",
   "name": "python",
   "nbconvert_exporter": "python",
   "pygments_lexer": "ipython3",
   "version": "3.8.13"
  }
 },
 "nbformat": 4,
 "nbformat_minor": 4
}
